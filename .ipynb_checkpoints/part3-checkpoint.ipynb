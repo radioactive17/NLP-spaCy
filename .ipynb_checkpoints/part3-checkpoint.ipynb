{
 "cells": [
  {
   "cell_type": "markdown",
   "id": "7b0c0f08-6ca4-4b48-a8d1-3f65251a614a",
   "metadata": {},
   "source": [
    "# Entity Ruler"
   ]
  },
  {
   "cell_type": "code",
   "execution_count": 61,
   "id": "49bdc404-09c3-4bae-8599-f3a489de4bee",
   "metadata": {},
   "outputs": [],
   "source": [
    "import spacy"
   ]
  },
  {
   "cell_type": "code",
   "execution_count": 63,
   "id": "3e0cd262-7600-4e57-8450-f1b8e7e8c935",
   "metadata": {},
   "outputs": [],
   "source": [
    "nlp = spacy.load(\"en_core_web_sm\")\n",
    "text = \"West Chestertenfieldville was referenced in Mr. Deeds\""
   ]
  },
  {
   "cell_type": "code",
   "execution_count": 64,
   "id": "41133b4b-37af-4d47-8dd3-1862f18164d6",
   "metadata": {},
   "outputs": [],
   "source": [
    "doc = nlp(text)"
   ]
  },
  {
   "cell_type": "code",
   "execution_count": 65,
   "id": "eaaba915-8309-4fd3-b6f0-8eab65e4d9c9",
   "metadata": {},
   "outputs": [
    {
     "name": "stdout",
     "output_type": "stream",
     "text": [
      "West Chestertenfieldville GPE\n",
      "Deeds PERSON\n"
     ]
    }
   ],
   "source": [
    "for ent in doc.ents:\n",
    "    print(ent.text, ent.label_)"
   ]
  },
  {
   "cell_type": "code",
   "execution_count": 66,
   "id": "cce545d9-0704-487d-97fa-c326a175dcfb",
   "metadata": {},
   "outputs": [],
   "source": [
    "ruler = nlp.add_pipe(\"entity_ruler\")"
   ]
  },
  {
   "cell_type": "code",
   "execution_count": 67,
   "id": "355933ca-6d1d-4816-a736-7abb65d16a05",
   "metadata": {},
   "outputs": [
    {
     "data": {
      "text/plain": [
       "{'summary': {'tok2vec': {'assigns': ['doc.tensor'],\n",
       "   'requires': [],\n",
       "   'scores': [],\n",
       "   'retokenizes': False},\n",
       "  'tagger': {'assigns': ['token.tag'],\n",
       "   'requires': [],\n",
       "   'scores': ['tag_acc'],\n",
       "   'retokenizes': False},\n",
       "  'parser': {'assigns': ['token.dep',\n",
       "    'token.head',\n",
       "    'token.is_sent_start',\n",
       "    'doc.sents'],\n",
       "   'requires': [],\n",
       "   'scores': ['dep_uas',\n",
       "    'dep_las',\n",
       "    'dep_las_per_type',\n",
       "    'sents_p',\n",
       "    'sents_r',\n",
       "    'sents_f'],\n",
       "   'retokenizes': False},\n",
       "  'attribute_ruler': {'assigns': [],\n",
       "   'requires': [],\n",
       "   'scores': [],\n",
       "   'retokenizes': False},\n",
       "  'lemmatizer': {'assigns': ['token.lemma'],\n",
       "   'requires': [],\n",
       "   'scores': ['lemma_acc'],\n",
       "   'retokenizes': False},\n",
       "  'ner': {'assigns': ['doc.ents', 'token.ent_iob', 'token.ent_type'],\n",
       "   'requires': [],\n",
       "   'scores': ['ents_f', 'ents_p', 'ents_r', 'ents_per_type'],\n",
       "   'retokenizes': False},\n",
       "  'entity_ruler': {'assigns': ['doc.ents', 'token.ent_type', 'token.ent_iob'],\n",
       "   'requires': [],\n",
       "   'scores': ['ents_f', 'ents_p', 'ents_r', 'ents_per_type'],\n",
       "   'retokenizes': False}},\n",
       " 'problems': {'tok2vec': [],\n",
       "  'tagger': [],\n",
       "  'parser': [],\n",
       "  'attribute_ruler': [],\n",
       "  'lemmatizer': [],\n",
       "  'ner': [],\n",
       "  'entity_ruler': []},\n",
       " 'attrs': {'token.head': {'assigns': ['parser'], 'requires': []},\n",
       "  'token.ent_iob': {'assigns': ['ner', 'entity_ruler'], 'requires': []},\n",
       "  'token.is_sent_start': {'assigns': ['parser'], 'requires': []},\n",
       "  'token.tag': {'assigns': ['tagger'], 'requires': []},\n",
       "  'doc.tensor': {'assigns': ['tok2vec'], 'requires': []},\n",
       "  'doc.ents': {'assigns': ['ner', 'entity_ruler'], 'requires': []},\n",
       "  'token.ent_type': {'assigns': ['ner', 'entity_ruler'], 'requires': []},\n",
       "  'token.dep': {'assigns': ['parser'], 'requires': []},\n",
       "  'token.lemma': {'assigns': ['lemmatizer'], 'requires': []},\n",
       "  'doc.sents': {'assigns': ['parser'], 'requires': []}}}"
      ]
     },
     "execution_count": 67,
     "metadata": {},
     "output_type": "execute_result"
    }
   ],
   "source": [
    "nlp.analyze_pipes()"
   ]
  },
  {
   "cell_type": "code",
   "execution_count": 68,
   "id": "eae17d22-1237-4d2a-b604-ccc9a9a70f88",
   "metadata": {},
   "outputs": [],
   "source": [
    "patterns = [\n",
    "    {\"label\": \"GPE\", \"pattern\": \"West Chestertenfieldville\"}\n",
    "]"
   ]
  },
  {
   "cell_type": "code",
   "execution_count": 69,
   "id": "bbc67d90-cfe1-4765-b08e-5ed0139bd7b1",
   "metadata": {},
   "outputs": [],
   "source": [
    "ruler.add_patterns(patterns)"
   ]
  },
  {
   "cell_type": "code",
   "execution_count": 71,
   "id": "33ee1035-faf1-47dc-ad86-6491816b4b23",
   "metadata": {},
   "outputs": [],
   "source": [
    "doc2 = nlp(text)"
   ]
  },
  {
   "cell_type": "code",
   "execution_count": 78,
   "id": "1a436be5-2e18-4e02-ac25-46ca40c00fd5",
   "metadata": {},
   "outputs": [
    {
     "name": "stdout",
     "output_type": "stream",
     "text": [
      "West Chestertenfieldville GPE\n",
      "Deeds PERSON\n"
     ]
    }
   ],
   "source": [
    "for ent in doc2.ents:\n",
    "    print(ent.text, ent.label_)"
   ]
  },
  {
   "cell_type": "code",
   "execution_count": 80,
   "id": "fc079d17-8c60-480e-af7d-797c1ba9c514",
   "metadata": {},
   "outputs": [],
   "source": [
    "nlp2 = spacy.load(\"en_core_web_sm\")"
   ]
  },
  {
   "cell_type": "code",
   "execution_count": 82,
   "id": "f91fe40e-f20e-482f-a81d-c6f83b4ef941",
   "metadata": {},
   "outputs": [],
   "source": [
    "ruler = nlp2.add_pipe(\"entity_ruler\", before = \"ner\")"
   ]
  },
  {
   "cell_type": "code",
   "execution_count": 83,
   "id": "47e6d94d-03b0-4b01-880b-9ed401a11731",
   "metadata": {},
   "outputs": [],
   "source": [
    "ruler.add_patterns(patterns)"
   ]
  },
  {
   "cell_type": "code",
   "execution_count": 84,
   "id": "2fd2c135-4229-40f8-9386-ef8a2e37c707",
   "metadata": {},
   "outputs": [],
   "source": [
    "doc = nlp2(text)"
   ]
  },
  {
   "cell_type": "code",
   "execution_count": 89,
   "id": "6b2f1a4e-6916-43d8-ade5-3a534e5098cc",
   "metadata": {},
   "outputs": [
    {
     "name": "stdout",
     "output_type": "stream",
     "text": [
      "West Chestertenfieldville GPE\n",
      "Deeds PERSON\n"
     ]
    }
   ],
   "source": [
    "for ent in doc.ents:\n",
    "    print(ent.text, ent.label_)"
   ]
  },
  {
   "cell_type": "code",
   "execution_count": 91,
   "id": "97d7e2d8-9986-4a0d-9272-4741a4923bbf",
   "metadata": {},
   "outputs": [
    {
     "data": {
      "text/plain": [
       "{'summary': {'tok2vec': {'assigns': ['doc.tensor'],\n",
       "   'requires': [],\n",
       "   'scores': [],\n",
       "   'retokenizes': False},\n",
       "  'tagger': {'assigns': ['token.tag'],\n",
       "   'requires': [],\n",
       "   'scores': ['tag_acc'],\n",
       "   'retokenizes': False},\n",
       "  'parser': {'assigns': ['token.dep',\n",
       "    'token.head',\n",
       "    'token.is_sent_start',\n",
       "    'doc.sents'],\n",
       "   'requires': [],\n",
       "   'scores': ['dep_uas',\n",
       "    'dep_las',\n",
       "    'dep_las_per_type',\n",
       "    'sents_p',\n",
       "    'sents_r',\n",
       "    'sents_f'],\n",
       "   'retokenizes': False},\n",
       "  'attribute_ruler': {'assigns': [],\n",
       "   'requires': [],\n",
       "   'scores': [],\n",
       "   'retokenizes': False},\n",
       "  'lemmatizer': {'assigns': ['token.lemma'],\n",
       "   'requires': [],\n",
       "   'scores': ['lemma_acc'],\n",
       "   'retokenizes': False},\n",
       "  'entity_ruler': {'assigns': ['doc.ents', 'token.ent_type', 'token.ent_iob'],\n",
       "   'requires': [],\n",
       "   'scores': ['ents_f', 'ents_p', 'ents_r', 'ents_per_type'],\n",
       "   'retokenizes': False},\n",
       "  'ner': {'assigns': ['doc.ents', 'token.ent_iob', 'token.ent_type'],\n",
       "   'requires': [],\n",
       "   'scores': ['ents_f', 'ents_p', 'ents_r', 'ents_per_type'],\n",
       "   'retokenizes': False}},\n",
       " 'problems': {'tok2vec': [],\n",
       "  'tagger': [],\n",
       "  'parser': [],\n",
       "  'attribute_ruler': [],\n",
       "  'lemmatizer': [],\n",
       "  'entity_ruler': [],\n",
       "  'ner': []},\n",
       " 'attrs': {'token.head': {'assigns': ['parser'], 'requires': []},\n",
       "  'token.ent_iob': {'assigns': ['entity_ruler', 'ner'], 'requires': []},\n",
       "  'token.is_sent_start': {'assigns': ['parser'], 'requires': []},\n",
       "  'token.tag': {'assigns': ['tagger'], 'requires': []},\n",
       "  'doc.tensor': {'assigns': ['tok2vec'], 'requires': []},\n",
       "  'doc.ents': {'assigns': ['entity_ruler', 'ner'], 'requires': []},\n",
       "  'token.ent_type': {'assigns': ['entity_ruler', 'ner'], 'requires': []},\n",
       "  'token.dep': {'assigns': ['parser'], 'requires': []},\n",
       "  'token.lemma': {'assigns': ['lemmatizer'], 'requires': []},\n",
       "  'doc.sents': {'assigns': ['parser'], 'requires': []}}}"
      ]
     },
     "execution_count": 91,
     "metadata": {},
     "output_type": "execute_result"
    }
   ],
   "source": [
    "nlp2.analyze_pipes()"
   ]
  },
  {
   "cell_type": "code",
   "execution_count": 93,
   "id": "2e15b75f-d907-4e73-88e1-60783b5bcfe8",
   "metadata": {},
   "outputs": [],
   "source": [
    "nlp3 = spacy.load(\"en_core_web_sm\")"
   ]
  },
  {
   "cell_type": "code",
   "execution_count": 95,
   "id": "80c7428d-1da0-4722-8ef2-c94ac06208b4",
   "metadata": {},
   "outputs": [],
   "source": [
    "ruler = nlp3.add_pipe(\"entity_ruler\", before=\"ner\")"
   ]
  },
  {
   "cell_type": "code",
   "execution_count": 97,
   "id": "7a76831d-de48-42a0-9063-66e7742f4e9b",
   "metadata": {},
   "outputs": [],
   "source": [
    "patterns = [\n",
    "    {\"label\": \"GPE\", \"pattern\": \"West Chestertenfieldville\"},\n",
    "    {\"label\": \"Films\", \"pattern\": \"Mr. Deeds\"}\n",
    "]"
   ]
  },
  {
   "cell_type": "code",
   "execution_count": 99,
   "id": "d2e047d9-e985-4394-a389-1ad8a542d35a",
   "metadata": {},
   "outputs": [],
   "source": [
    "ruler.add_patterns(patterns)"
   ]
  },
  {
   "cell_type": "code",
   "execution_count": 101,
   "id": "7c2e1fed-b335-446a-9b47-46560b52eee0",
   "metadata": {},
   "outputs": [],
   "source": [
    "doc = nlp3(text)"
   ]
  },
  {
   "cell_type": "code",
   "execution_count": 103,
   "id": "8b135c47-bcf9-4d3c-aa56-5ab20f7dd76c",
   "metadata": {},
   "outputs": [
    {
     "name": "stdout",
     "output_type": "stream",
     "text": [
      "West Chestertenfieldville GPE\n",
      "Mr. Deeds Films\n"
     ]
    }
   ],
   "source": [
    "for ent in doc.ents:\n",
    "    print(ent.text, ent.label_)\n"
   ]
  },
  {
   "cell_type": "code",
   "execution_count": 105,
   "id": "d7dca641-84d8-42b4-9b4e-81600b6ad9e4",
   "metadata": {},
   "outputs": [],
   "source": [
    "# Problems toponym resolution \n",
    "# same word in different context"
   ]
  },
  {
   "cell_type": "markdown",
   "id": "a43c4a18-ba94-458c-a29e-76454f1e9d10",
   "metadata": {},
   "source": [
    "# Matcher"
   ]
  },
  {
   "cell_type": "code",
   "execution_count": 109,
   "id": "c740cd6d-cf7b-4ba4-9b28-a75e7633f5f6",
   "metadata": {},
   "outputs": [],
   "source": [
    "from spacy.matcher import Matcher"
   ]
  },
  {
   "cell_type": "code",
   "execution_count": 111,
   "id": "8a5f75fe-bead-47aa-903c-17924ff64019",
   "metadata": {},
   "outputs": [],
   "source": [
    "nlp = spacy.load(\"en_core_web_sm\")"
   ]
  },
  {
   "cell_type": "code",
   "execution_count": 113,
   "id": "13a82af1-9f7c-499f-96b5-a60e02780b10",
   "metadata": {},
   "outputs": [],
   "source": [
    "matcher = Matcher(nlp.vocab)\n",
    "pattern = [\n",
    "    {\n",
    "        \"LIKE_EMAIL\": True\n",
    "    }\n",
    "]\n",
    "matcher.add(\"EMAIL_ADDRESS\", [pattern])"
   ]
  },
  {
   "cell_type": "code",
   "execution_count": 115,
   "id": "fcc40761-dce9-45de-a03a-d511c8a49762",
   "metadata": {},
   "outputs": [],
   "source": [
    "doc = nlp(\"This is an email address: jjadfjhdf@aol.com\")\n",
    "matches = matcher(doc)"
   ]
  },
  {
   "cell_type": "code",
   "execution_count": 117,
   "id": "074844c9-8bcc-4745-a629-3844c243d9a3",
   "metadata": {},
   "outputs": [
    {
     "name": "stdout",
     "output_type": "stream",
     "text": [
      "[(16571425990740197027, 6, 7)]\n"
     ]
    }
   ],
   "source": [
    "print(matches)"
   ]
  },
  {
   "cell_type": "code",
   "execution_count": 121,
   "id": "4affa871-1443-4e55-99e6-a20fe19f90db",
   "metadata": {},
   "outputs": [
    {
     "name": "stdout",
     "output_type": "stream",
     "text": [
      "EMAIL_ADDRESS\n"
     ]
    }
   ],
   "source": [
    "print(nlp.vocab[matches[0][0]].text)"
   ]
  },
  {
   "cell_type": "code",
   "execution_count": 123,
   "id": "8acdf539-e677-4ce2-bc8d-d824597aeaf6",
   "metadata": {},
   "outputs": [],
   "source": [
    "with open(\"data/wiki_mlk.txt\", \"r\") as f:\n",
    "    text = f.read()"
   ]
  },
  {
   "cell_type": "code",
   "execution_count": 125,
   "id": "1d1f399b-cc97-493f-a5ea-ca2532588473",
   "metadata": {},
   "outputs": [
    {
     "name": "stdout",
     "output_type": "stream",
     "text": [
      "Martin Luther King Jr. (born Michael King Jr.; January 15, 1929 – April 4, 1968) was an American Baptist minister and activist who became the most visible spokesman and leader in the American civil rights movement from 1955 until his assassination in 1968. King advanced civil rights through nonviolence and civil disobedience, inspired by his Christian beliefs and the nonviolent activism of Mahatma Gandhi. He was the son of early civil rights activist and minister Martin Luther King Sr.\n",
      "\n",
      "King participated in and led marches for blacks' right to vote, desegregation, labor rights, and other basic civil rights.[1] King led the 1955 Montgomery bus boycott and later became the first president of the Southern Christian Leadership Conference (SCLC). As president of the SCLC, he led the unsuccessful Albany Movement in Albany, Georgia, and helped organize some of the nonviolent 1963 protests in Birmingham, Alabama. King helped organize the 1963 March on Washington, where he delivered his famous \"I Have a Dream\" speech on the steps of the Lincoln Memorial.\n",
      "\n",
      "The SCLC put into practice the tactics of nonviolent protest with some success by strategically choosing the methods and places in which protests were carried out. There were several dramatic stand-offs with segregationist authorities, who sometimes turned violent.[2] Federal Bureau of Investigation (FBI) Director J. Edgar Hoover considered King a radical and made him an object of the FBI's COINTELPRO from 1963, forward. FBI agents investigated him for possible communist ties, recorded his extramarital affairs and reported on them to government officials, and, in 1964, mailed King a threatening anonymous letter, which he interpreted as an attempt to make him commit suicide.[3]\n",
      "\n",
      "On October 14, 1964, King won the Nobel Peace Prize for combating racial inequality through nonviolent resistance. In 1965, he helped organize two of the three Selma to Montgomery marches. In his final years, he expanded his focus to include opposition towards poverty, capitalism, and the Vietnam War.\n",
      "\n",
      "In 1968, King was planning a national occupation of Washington, D.C., to be called the Poor People's Campaign, when he was assassinated on April 4 in Memphis, Tennessee. His death was followed by riots in many U.S. cities. Allegations that James Earl Ray, the man convicted of killing King, had been framed or acted in concert with government agents persisted for decades after the shooting. King was posthumously awarded the Presidential Medal of Freedom in 1977 and the Congressional Gold Medal in 2003. Martin Luther King Jr. Day was established as a holiday in cities and states throughout the United States beginning in 1971; the holiday was enacted at the federal level by legislation signed by President Ronald Reagan in 1986. Hundreds of streets in the U.S. have been renamed in his honor, and the most populous county in Washington State was rededicated for him. The Martin Luther King Jr. Memorial on the National Mall in Washington, D.C., was dedicated in 2011.\n"
     ]
    }
   ],
   "source": [
    "print(text)"
   ]
  },
  {
   "cell_type": "code",
   "execution_count": 127,
   "id": "69aa90cb-97fe-47dc-8c37-c28428a92fac",
   "metadata": {},
   "outputs": [],
   "source": [
    "nlp = spacy.load(\"en_core_web_sm\")"
   ]
  },
  {
   "cell_type": "code",
   "execution_count": 131,
   "id": "2f1f4743-d159-4fe2-90cc-4431a220e2e5",
   "metadata": {},
   "outputs": [
    {
     "name": "stdout",
     "output_type": "stream",
     "text": [
      "102\n",
      "(17554843294604841021, 0, 1) Martin\n",
      "(17554843294604841021, 1, 2) Luther\n",
      "(17554843294604841021, 2, 3) King\n",
      "(17554843294604841021, 3, 4) Jr.\n",
      "(17554843294604841021, 6, 7) Michael\n",
      "(17554843294604841021, 7, 8) King\n",
      "(17554843294604841021, 8, 9) Jr.\n",
      "(17554843294604841021, 10, 11) January\n",
      "(17554843294604841021, 15, 16) April\n",
      "(17554843294604841021, 23, 24) Baptist\n"
     ]
    }
   ],
   "source": [
    "matcher =  Matcher(nlp.vocab)\n",
    "pattern = [\n",
    "    {\n",
    "        \"POS\": \"PROPN\"\n",
    "    }\n",
    "]\n",
    "matcher.add(\"PROPER NOUN\", [pattern])\n",
    "doc = nlp(text)\n",
    "matches = matcher(doc)\n",
    "print(len(matches))\n",
    "for match in matches[:10]:\n",
    "    print(match, doc[match[1]:match[2]])"
   ]
  },
  {
   "cell_type": "code",
   "execution_count": 133,
   "id": "816ad541-fe2a-4fc4-8445-3bc11927d61d",
   "metadata": {},
   "outputs": [
    {
     "name": "stdout",
     "output_type": "stream",
     "text": [
      "175\n",
      "(17554843294604841021, 0, 1) Martin\n",
      "(17554843294604841021, 0, 2) Martin Luther\n",
      "(17554843294604841021, 1, 2) Luther\n",
      "(17554843294604841021, 0, 3) Martin Luther King\n",
      "(17554843294604841021, 1, 3) Luther King\n",
      "(17554843294604841021, 2, 3) King\n",
      "(17554843294604841021, 0, 4) Martin Luther King Jr.\n",
      "(17554843294604841021, 1, 4) Luther King Jr.\n",
      "(17554843294604841021, 2, 4) King Jr.\n",
      "(17554843294604841021, 3, 4) Jr.\n"
     ]
    }
   ],
   "source": [
    "matcher =  Matcher(nlp.vocab)\n",
    "pattern = [\n",
    "    {\n",
    "        \"POS\": \"PROPN\", \"OP\": \"+\"\n",
    "    }\n",
    "]\n",
    "matcher.add(\"PROPER NOUN\", [pattern])\n",
    "doc = nlp(text)\n",
    "matches = matcher(doc)\n",
    "print(len(matches))\n",
    "for match in matches[:10]:\n",
    "    print(match, doc[match[1]:match[2]])"
   ]
  },
  {
   "cell_type": "code",
   "execution_count": 139,
   "id": "790eff8b-b5fb-4732-9ebd-14db035c64ae",
   "metadata": {},
   "outputs": [
    {
     "name": "stdout",
     "output_type": "stream",
     "text": [
      "61\n",
      "(17554843294604841021, 83, 88) Martin Luther King Sr.\n",
      "(17554843294604841021, 469, 474) Martin Luther King Jr. Day\n",
      "(17554843294604841021, 536, 541) Martin Luther King Jr. Memorial\n",
      "(17554843294604841021, 0, 4) Martin Luther King Jr.\n",
      "(17554843294604841021, 128, 132) Southern Christian Leadership Conference\n",
      "(17554843294604841021, 247, 251) Director J. Edgar Hoover\n",
      "(17554843294604841021, 6, 9) Michael King Jr.\n",
      "(17554843294604841021, 325, 328) Nobel Peace Prize\n",
      "(17554843294604841021, 422, 425) James Earl Ray\n",
      "(17554843294604841021, 463, 466) Congressional Gold Medal\n"
     ]
    }
   ],
   "source": [
    "matcher =  Matcher(nlp.vocab)\n",
    "pattern = [\n",
    "    {\n",
    "        \"POS\": \"PROPN\", \"OP\": \"+\"\n",
    "    }\n",
    "]\n",
    "matcher.add(\"PROPER NOUN\", [pattern], greedy = \"LONGEST\")\n",
    "doc = nlp(text)\n",
    "matches = matcher(doc)\n",
    "print(len(matches))\n",
    "for match in matches[:10]:\n",
    "    print(match, doc[match[1]:match[2]])"
   ]
  },
  {
   "cell_type": "code",
   "execution_count": 141,
   "id": "34ce53dc-e074-47ae-8772-00df11ca11c3",
   "metadata": {},
   "outputs": [
    {
     "name": "stdout",
     "output_type": "stream",
     "text": [
      "61\n",
      "(17554843294604841021, 0, 4) Martin Luther King Jr.\n",
      "(17554843294604841021, 6, 9) Michael King Jr.\n",
      "(17554843294604841021, 10, 11) January\n",
      "(17554843294604841021, 15, 16) April\n",
      "(17554843294604841021, 23, 24) Baptist\n",
      "(17554843294604841021, 49, 50) King\n",
      "(17554843294604841021, 69, 71) Mahatma Gandhi\n",
      "(17554843294604841021, 83, 88) Martin Luther King Sr.\n",
      "(17554843294604841021, 89, 90) King\n",
      "(17554843294604841021, 113, 114) King\n"
     ]
    }
   ],
   "source": [
    "matcher =  Matcher(nlp.vocab)\n",
    "pattern = [\n",
    "    {\n",
    "        \"POS\": \"PROPN\", \"OP\": \"+\"\n",
    "    }\n",
    "]\n",
    "matcher.add(\"PROPER NOUN\", [pattern], greedy = \"LONGEST\")\n",
    "doc = nlp(text)\n",
    "matches = matcher(doc)\n",
    "matches.sort(key = lambda x:x[1])\n",
    "print(len(matches))\n",
    "for match in matches[:10]:\n",
    "    print(match, doc[match[1]:match[2]])"
   ]
  },
  {
   "cell_type": "code",
   "execution_count": 143,
   "id": "d5c07dd7-5371-45b4-93b5-b8e4a7ecad1c",
   "metadata": {},
   "outputs": [
    {
     "name": "stdout",
     "output_type": "stream",
     "text": [
      "7\n",
      "(17554843294604841021, 49, 51) King advanced\n",
      "(17554843294604841021, 89, 91) King participated\n",
      "(17554843294604841021, 113, 115) King led\n",
      "(17554843294604841021, 167, 169) King helped\n",
      "(17554843294604841021, 247, 252) Director J. Edgar Hoover considered\n",
      "(17554843294604841021, 322, 324) King won\n",
      "(17554843294604841021, 485, 488) United States beginning\n"
     ]
    }
   ],
   "source": [
    "matcher =  Matcher(nlp.vocab)\n",
    "pattern = [\n",
    "    {\n",
    "        \"POS\": \"PROPN\", \"OP\": \"+\"\n",
    "    },\n",
    "    {\n",
    "        \"POS\": \"VERB\"\n",
    "    }\n",
    "]\n",
    "matcher.add(\"PROPER NOUN\", [pattern], greedy = \"LONGEST\")\n",
    "doc = nlp(text)\n",
    "matches = matcher(doc)\n",
    "matches.sort(key = lambda x:x[1])\n",
    "print(len(matches))\n",
    "for match in matches[:10]:\n",
    "    print(match, doc[match[1]:match[2]])"
   ]
  },
  {
   "cell_type": "code",
   "execution_count": 157,
   "id": "71f0358a-f49f-47d2-9852-814fe6f142e7",
   "metadata": {},
   "outputs": [],
   "source": [
    "import json\n",
    "with open(\"data/alice.json\", \"r\") as f:\n",
    "    data = json.load(f)"
   ]
  },
  {
   "cell_type": "code",
   "execution_count": 159,
   "id": "6521d03e-ce50-4d33-b046-db34e42b160a",
   "metadata": {},
   "outputs": [
    {
     "name": "stdout",
     "output_type": "stream",
     "text": [
      "Alice was beginning to get very tired of sitting by her sister on the bank, and of having nothing to do: once or twice she had peeped into the book her sister was reading, but it had no pictures or conversations in it, `and what is the use of a book,' thought Alice `without pictures or conversation?'\n"
     ]
    }
   ],
   "source": [
    "text = data[0][2][0]\n",
    "print(text)"
   ]
  },
  {
   "cell_type": "code",
   "execution_count": 161,
   "id": "7c6cd378-7270-4ed8-8b47-0d2fd39b3867",
   "metadata": {},
   "outputs": [
    {
     "name": "stdout",
     "output_type": "stream",
     "text": [
      "Alice was beginning to get very tired of sitting by her sister on the bank, and of having nothing to do: once or twice she had peeped into the book her sister was reading, but it had no pictures or conversations in it, 'and what is the use of a book,' thought Alice 'without pictures or conversation?'\n"
     ]
    }
   ],
   "source": [
    "text = text.replace(\"`\", \"'\")\n",
    "print(text)"
   ]
  },
  {
   "cell_type": "code",
   "execution_count": 165,
   "id": "257a5cf2-5be0-404c-be25-66ed9d9180b1",
   "metadata": {},
   "outputs": [
    {
     "name": "stdout",
     "output_type": "stream",
     "text": [
      "2\n",
      "(17554843294604841021, 47, 58) 'and what is the use of a book,'\n",
      "(17554843294604841021, 60, 67) 'without pictures or conversation?'\n"
     ]
    }
   ],
   "source": [
    "matcher =  Matcher(nlp.vocab)\n",
    "pattern = [\n",
    "    {\n",
    "        \"ORTH\": \"'\"\n",
    "    },\n",
    "    {\n",
    "        \"IS_ALPHA\": True, \"OP\": \"+\"\n",
    "    },\n",
    "    {\n",
    "        \"IS_PUNCT\": True, \"OP\": \"*\"\n",
    "    },\n",
    "    {\n",
    "        \"ORTH\": \"'\"\n",
    "    }\n",
    "]\n",
    "matcher.add(\"PROPER NOUN\", [pattern], greedy = \"LONGEST\")\n",
    "doc = nlp(text)\n",
    "matches = matcher(doc)\n",
    "matches.sort(key = lambda x:x[1])\n",
    "print(len(matches))\n",
    "for match in matches[:10]:\n",
    "    print(match, doc[match[1]:match[2]])"
   ]
  },
  {
   "cell_type": "code",
   "execution_count": 173,
   "id": "cd215f02-a23c-4558-8eae-dc3ecce29528",
   "metadata": {},
   "outputs": [
    {
     "name": "stdout",
     "output_type": "stream",
     "text": [
      "1\n",
      "(17554843294604841021, 47, 67) 'and what is the use of a book,' thought Alice 'without pictures or conversation?'\n"
     ]
    }
   ],
   "source": [
    "speak_lemmas = [\"think\", \"say\"]\n",
    "matcher =  Matcher(nlp.vocab)\n",
    "pattern = [\n",
    "    {\n",
    "        \"ORTH\": \"'\"\n",
    "    },\n",
    "    {\n",
    "        \"IS_ALPHA\": True, \"OP\": \"+\"\n",
    "    },\n",
    "    {\n",
    "        \"IS_PUNCT\": True, \"OP\": \"*\"\n",
    "    },\n",
    "    {\n",
    "        \"ORTH\": \"'\"\n",
    "    },\n",
    "    {\n",
    "        \"POS\": \"VERB\", \"LEMMA\": {\"IN\": speak_lemmas}\n",
    "    },\n",
    "    {\n",
    "        \"POS\": \"PROPN\", \"OP\": \"+\"\n",
    "    },\n",
    "    {\n",
    "        \"ORTH\": \"'\"\n",
    "    },\n",
    "    {\n",
    "        \"IS_ALPHA\": True, \"OP\": \"+\"\n",
    "    },\n",
    "    {\n",
    "        \"IS_PUNCT\": True, \"OP\": \"*\"\n",
    "    },\n",
    "    {\n",
    "        \"ORTH\": \"'\"\n",
    "    }\n",
    "]\n",
    "matcher.add(\"PROPER NOUN\", [pattern], greedy = \"LONGEST\")\n",
    "doc = nlp(text)\n",
    "matches = matcher(doc)\n",
    "matches.sort(key = lambda x:x[1])\n",
    "print(len(matches))\n",
    "for match in matches[:10]:\n",
    "    print(match, doc[match[1]:match[2]])"
   ]
  },
  {
   "cell_type": "code",
   "execution_count": 179,
   "id": "a4e8fe2e-66a4-4117-8777-822221fc6be0",
   "metadata": {},
   "outputs": [
    {
     "name": "stdout",
     "output_type": "stream",
     "text": [
      "1\n",
      "(17554843294604841021, 47, 67) 'and what is the use of a book,' thought Alice 'without pictures or conversation?'\n",
      "0\n",
      "0\n",
      "0\n",
      "0\n",
      "0\n",
      "0\n",
      "0\n",
      "0\n",
      "0\n",
      "0\n",
      "0\n",
      "0\n",
      "0\n",
      "0\n",
      "0\n",
      "0\n"
     ]
    }
   ],
   "source": [
    "for text in data[0][2]:\n",
    "    text = text.replace(\"`\", \"'\")\n",
    "    doc = nlp(text)\n",
    "    matches = matcher(doc)\n",
    "    print(len(matches))\n",
    "    matches.sort(key = lambda x:x[1])\n",
    "    for match in matches[:10]:\n",
    "        print(match, doc[match[1]:match[2]])"
   ]
  },
  {
   "cell_type": "code",
   "execution_count": 181,
   "id": "d2568c0d-0743-4bba-8336-de42b7c568aa",
   "metadata": {},
   "outputs": [
    {
     "name": "stdout",
     "output_type": "stream",
     "text": [
      "1\n",
      "(3232560085755078826, 47, 67) 'and what is the use of a book,' thought Alice 'without pictures or conversation?'\n",
      "0\n",
      "0\n",
      "0\n",
      "0\n",
      "0\n",
      "1\n",
      "(3232560085755078826, 0, 6) 'Well!' thought Alice\n",
      "0\n",
      "0\n",
      "0\n",
      "0\n",
      "0\n",
      "0\n",
      "0\n",
      "1\n",
      "(3232560085755078826, 57, 68) 'which certainly was not here before,' said Alice\n",
      "0\n",
      "0\n"
     ]
    },
    {
     "data": {
      "text/plain": [
       "1"
      ]
     },
     "execution_count": 181,
     "metadata": {},
     "output_type": "execute_result"
    }
   ],
   "source": [
    "matcher = Matcher(nlp.vocab)\n",
    "pattern1 = [\n",
    "    {'ORTH': \"'\"}, \n",
    "    {'IS_ALPHA': True, \"OP\": \"+\"}, \n",
    "    {'IS_PUNCT': True, \"OP\": \"*\"}, \n",
    "    {'ORTH': \"'\"}, \n",
    "    {\"POS\": \"VERB\", \"LEMMA\": {\"IN\": speak_lemmas}}, \n",
    "    {\"POS\": \"PROPN\", \"OP\": \"+\"}, \n",
    "    {'ORTH': \"'\"}, \n",
    "    {'IS_ALPHA': True, \"OP\": \"+\"}, \n",
    "    {'IS_PUNCT': True, \"OP\": \"*\"}, {'ORTH': \"'\"}\n",
    "           ]\n",
    "pattern2 = [\n",
    "    {'ORTH': \"'\"}, \n",
    "    {'IS_ALPHA': True, \"OP\": \"+\"}, \n",
    "    {'IS_PUNCT': True, \"OP\": \"*\"},\n",
    "    {'ORTH': \"'\"}, \n",
    "    {\"POS\": \"VERB\", \"LEMMA\": {\"IN\": speak_lemmas}}, \n",
    "    {\"POS\": \"PROPN\", \"OP\": \"+\"}\n",
    "]\n",
    "pattern3 = [\n",
    "    {\"POS\": \"PROPN\", \"OP\": \"+\"},\n",
    "    {\"POS\": \"VERB\", \"LEMMA\": {\"IN\": speak_lemmas}},\n",
    "    {'ORTH': \"'\"}, \n",
    "    {'IS_ALPHA': True, \"OP\": \"+\"},\n",
    "    {'IS_PUNCT': True, \"OP\": \"*\"}, \n",
    "    {'ORTH': \"'\"}\n",
    "]\n",
    "matcher.add(\"PROPER_NOUNS\", [pattern1, pattern2, pattern3], greedy='LONGEST')\n",
    "for text in data[0][2]:\n",
    "    text = text.replace(\"`\", \"'\")\n",
    "    doc = nlp(text)\n",
    "    matches = matcher(doc)\n",
    "    matches.sort(key = lambda x: x[1])\n",
    "    print (len(matches))\n",
    "    for match in matches[:10]:\n",
    "        print (match, doc[match[1]:match[2]])\n",
    "1"
   ]
  },
  {
   "cell_type": "markdown",
   "id": "adc07997-8b04-4af7-8e6c-000933a2ce79",
   "metadata": {},
   "source": [
    "# Custom Components"
   ]
  },
  {
   "cell_type": "code",
   "execution_count": 184,
   "id": "71599315-0f39-421d-926e-13c3bd58cb3a",
   "metadata": {},
   "outputs": [],
   "source": [
    "nlp = spacy.load(\"en_core_web_sm\")\n",
    "doc = nlp(\"Britain is a place. Mary is a doctor.\")"
   ]
  },
  {
   "cell_type": "code",
   "execution_count": 186,
   "id": "8ff01fc3-2393-4630-92c1-9384e0f5af1f",
   "metadata": {},
   "outputs": [
    {
     "name": "stdout",
     "output_type": "stream",
     "text": [
      "Britain GPE\n",
      "Mary PERSON\n"
     ]
    }
   ],
   "source": [
    "for ent in doc.ents:\n",
    "    print(ent.text, ent.label_)"
   ]
  },
  {
   "cell_type": "code",
   "execution_count": 188,
   "id": "4d8b67ea-1558-49c8-9877-a2898cb1f8d6",
   "metadata": {},
   "outputs": [],
   "source": [
    "from spacy.language import Language"
   ]
  },
  {
   "cell_type": "code",
   "execution_count": 194,
   "id": "c6757d9e-5106-444e-bbde-dff04db2d698",
   "metadata": {},
   "outputs": [],
   "source": [
    "@Language.component(\"remove_gpe\")\n",
    "def remove_gpe(doc):\n",
    "    original_ents = list(doc.ents)\n",
    "    for ent in doc.ents:\n",
    "        if ent.label_ == \"GPE\":\n",
    "            original_ents.remove(ent)\n",
    "    doc.ents = original_ents\n",
    "    return (doc)"
   ]
  },
  {
   "cell_type": "code",
   "execution_count": 196,
   "id": "04ffc621-cc96-464c-ba31-8110baebdcb2",
   "metadata": {},
   "outputs": [
    {
     "data": {
      "text/plain": [
       "<function __main__.remove_gpe(doc)>"
      ]
     },
     "execution_count": 196,
     "metadata": {},
     "output_type": "execute_result"
    }
   ],
   "source": [
    "nlp.add_pipe(\"remove_gpe\")"
   ]
  },
  {
   "cell_type": "code",
   "execution_count": 200,
   "id": "c74d59d1-170b-4484-8a71-51c90f8397e3",
   "metadata": {},
   "outputs": [
    {
     "data": {
      "text/plain": [
       "{'summary': {'tok2vec': {'assigns': ['doc.tensor'],\n",
       "   'requires': [],\n",
       "   'scores': [],\n",
       "   'retokenizes': False},\n",
       "  'tagger': {'assigns': ['token.tag'],\n",
       "   'requires': [],\n",
       "   'scores': ['tag_acc'],\n",
       "   'retokenizes': False},\n",
       "  'parser': {'assigns': ['token.dep',\n",
       "    'token.head',\n",
       "    'token.is_sent_start',\n",
       "    'doc.sents'],\n",
       "   'requires': [],\n",
       "   'scores': ['dep_uas',\n",
       "    'dep_las',\n",
       "    'dep_las_per_type',\n",
       "    'sents_p',\n",
       "    'sents_r',\n",
       "    'sents_f'],\n",
       "   'retokenizes': False},\n",
       "  'attribute_ruler': {'assigns': [],\n",
       "   'requires': [],\n",
       "   'scores': [],\n",
       "   'retokenizes': False},\n",
       "  'lemmatizer': {'assigns': ['token.lemma'],\n",
       "   'requires': [],\n",
       "   'scores': ['lemma_acc'],\n",
       "   'retokenizes': False},\n",
       "  'ner': {'assigns': ['doc.ents', 'token.ent_iob', 'token.ent_type'],\n",
       "   'requires': [],\n",
       "   'scores': ['ents_f', 'ents_p', 'ents_r', 'ents_per_type'],\n",
       "   'retokenizes': False},\n",
       "  'remove_gpe': {'assigns': [],\n",
       "   'requires': [],\n",
       "   'scores': [],\n",
       "   'retokenizes': False}},\n",
       " 'problems': {'tok2vec': [],\n",
       "  'tagger': [],\n",
       "  'parser': [],\n",
       "  'attribute_ruler': [],\n",
       "  'lemmatizer': [],\n",
       "  'ner': [],\n",
       "  'remove_gpe': []},\n",
       " 'attrs': {'token.head': {'assigns': ['parser'], 'requires': []},\n",
       "  'token.ent_iob': {'assigns': ['ner'], 'requires': []},\n",
       "  'token.is_sent_start': {'assigns': ['parser'], 'requires': []},\n",
       "  'token.tag': {'assigns': ['tagger'], 'requires': []},\n",
       "  'doc.tensor': {'assigns': ['tok2vec'], 'requires': []},\n",
       "  'doc.ents': {'assigns': ['ner'], 'requires': []},\n",
       "  'token.ent_type': {'assigns': ['ner'], 'requires': []},\n",
       "  'token.dep': {'assigns': ['parser'], 'requires': []},\n",
       "  'token.lemma': {'assigns': ['lemmatizer'], 'requires': []},\n",
       "  'doc.sents': {'assigns': ['parser'], 'requires': []}}}"
      ]
     },
     "execution_count": 200,
     "metadata": {},
     "output_type": "execute_result"
    }
   ],
   "source": [
    "nlp.analyze_pipes()"
   ]
  },
  {
   "cell_type": "code",
   "execution_count": 202,
   "id": "2d12bf58-9e55-4a78-a13b-bcd779a44a20",
   "metadata": {},
   "outputs": [
    {
     "name": "stdout",
     "output_type": "stream",
     "text": [
      "Mary PERSON\n"
     ]
    }
   ],
   "source": [
    "doc = nlp(\"Britain is a place. Mary is a doctor.\")\n",
    "for ent in doc.ents:\n",
    "    print(ent.text, ent.label_)"
   ]
  },
  {
   "cell_type": "code",
   "execution_count": 205,
   "id": "c99d08c1-f746-4530-b567-1cefde7cbbd1",
   "metadata": {},
   "outputs": [],
   "source": [
    "nlp.to_disk(\"data/new_en_core_web_sm\")"
   ]
  },
  {
   "cell_type": "markdown",
   "id": "d8820c6e-1647-4aec-98cd-46edebbface7",
   "metadata": {},
   "source": [
    "# Basic Regex"
   ]
  },
  {
   "cell_type": "code",
   "execution_count": 209,
   "id": "33d43c62-efd0-4c81-98d7-3b801c2fa731",
   "metadata": {},
   "outputs": [],
   "source": [
    "#Import the requisite library\n",
    "import spacy\n",
    "\n",
    "#Sample text\n",
    "text = \"This is a sample number (555) 555-5555.\"\n",
    "\n",
    "#Build upon the spaCy Small Model\n",
    "nlp = spacy.blank(\"en\")\n",
    "\n",
    "#Create the Ruler and Add it\n",
    "ruler = nlp.add_pipe(\"entity_ruler\")\n",
    "\n",
    "#List of Entities and Patterns (source: https://spacy.io/usage/rule-based-matching)\n",
    "patterns = [\n",
    "                {\n",
    "                    \"label\": \"PHONE_NUMBER\",\n",
    "                    \"pattern\":\n",
    "                    [{\"TEXT\":\n",
    "                      {\"REGEX\": r\"((\\d){3}-(\\d){4})\"}}\n",
    "                                                        ]\n",
    "                }\n",
    "            ]\n",
    "#add patterns to ruler\n",
    "ruler.add_patterns(patterns)\n",
    "\n",
    "\n",
    "#create the doc\n",
    "doc = nlp(text)\n",
    "\n",
    "#extract entities\n",
    "for ent in doc.ents:\n",
    "    print (ent.text, ent.label_)"
   ]
  },
  {
   "cell_type": "code",
   "execution_count": 211,
   "id": "b779fa52-d3e8-44b6-b7a4-922a9c861508",
   "metadata": {},
   "outputs": [
    {
     "name": "stdout",
     "output_type": "stream",
     "text": [
      "5555555 PHONE_NUMBER\n"
     ]
    }
   ],
   "source": [
    "#Import the requisite library\n",
    "import spacy\n",
    "\n",
    "#Sample text\n",
    "text = \"This is a sample number 5555555.\"\n",
    "#Build upon the spaCy Small Model\n",
    "nlp = spacy.blank(\"en\")\n",
    "\n",
    "#Create the Ruler and Add it\n",
    "ruler = nlp.add_pipe(\"entity_ruler\")\n",
    "\n",
    "#List of Entities and Patterns (source: https://spacy.io/usage/rule-based-matching)\n",
    "patterns = [\n",
    "                {\n",
    "                    \"label\": \"PHONE_NUMBER\",\n",
    "                    \"pattern\":\n",
    "                    [{\"TEXT\":\n",
    "                      {\"REGEX\": r\"((\\d){5})\"}}\n",
    "                                                        ]\n",
    "                }\n",
    "            ]\n",
    "#add patterns to ruler\n",
    "ruler.add_patterns(patterns)\n",
    "\n",
    "\n",
    "#create the doc\n",
    "doc = nlp(text)\n",
    "\n",
    "#extract entities\n",
    "for ent in doc.ents:\n",
    "    print (ent.text, ent.label_)"
   ]
  },
  {
   "cell_type": "code",
   "execution_count": null,
   "id": "4c4a265e-0364-4b61-b577-0d6b28ce9192",
   "metadata": {},
   "outputs": [],
   "source": []
  }
 ],
 "metadata": {
  "kernelspec": {
   "display_name": "Python 3 (ipykernel)",
   "language": "python",
   "name": "python3"
  },
  "language_info": {
   "codemirror_mode": {
    "name": "ipython",
    "version": 3
   },
   "file_extension": ".py",
   "mimetype": "text/x-python",
   "name": "python",
   "nbconvert_exporter": "python",
   "pygments_lexer": "ipython3",
   "version": "3.12.4"
  }
 },
 "nbformat": 4,
 "nbformat_minor": 5
}
